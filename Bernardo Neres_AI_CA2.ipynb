{
 "cells": [
  {
   "cell_type": "markdown",
   "id": "c2977993",
   "metadata": {},
   "source": [
    "Question 1 - (i) \n",
    "\n",
    "Differences between a graph and a tree:\n",
    "\n",
    "Non-linear data structures include both Trees and Graphs. When it comes to the types of connections and loop development, they differ from each other. This means that while a graph structure corresponds to a network model and can contain loops, a tree structure is connected in a way that prevents it from ever having loops.\n",
    "A non-linear data structure called a tree is used for representing authority. It is a collection of nodes connected in a structure that is hierarchical. Between two nodes or vertices in a tree structure, there can only be one path. There is only one root node in the tree structure, which is the highest node without any descendant nodes.\n",
    "Since a tree structure cannot contain loops, it has (n−1) edges, where n is the number of nodes. A tree structure is a hierarchical type model since it doesn't form any loops.\n",
    "The tree structure uses three different traversal techniques: pre-order, in-order, and post-order. In comparison, the tree structure is a less complicated kind of non-linear data structure.\n",
    "Another non-linear data structure used in software engineering is a graph. Many kinds of physical structures are represented by graphs.\n",
    "\n",
    "A set of edges and a collection of nodes, also known as vertices, create a graph. Each edge connects with the two nodes together. A point or a circle represents a node on the graph, and line segments or arcs represent an edge.\n",
    "Multiple paths between vertices in a graph structure are permitted. Graphs don't have a root node because they can also contain loops. Graphs comply to the model of networks.\n",
    "\n",
    "The graph employs two traversal strategies: depth-first search and breadth-first search. The ability to specify the number of edges in a graph is another essential characteristic of graphs. The structure of a graph is comparatively more complex.\n",
    "\n",
    "Question 1 - (ii)\n",
    "\n",
    "Explain in detail how the graph is an abstraction of the problem:\n",
    "\n",
    "The graph in figure 1 is an abstraction of the problem because it basically gives us a visual representation of all the possible paths and possibilities through the sets of nodes and edges in a broad way. When we look at the image, we can quickly identify the starting point \"A\" and the solution \"S\", as all the other intermediate stages, which in this case are represented by the other letters. By looking at the graph, we can also analyze the problem and find the shortest and quickest path to a solution.\n",
    "\n",
    "Question 1 - (iii)\n",
    "\n",
    "Identify the advantages of using a visualisation such as the one shown in Fig. 1:\n",
    "\n",
    "Data visualization is a way to represent a set of data visually, which can be organized in the form of bars, graphs, maps and other forms, facilitating data management in a faster way, making it easier for the user to understand, and thus making it possible to identify failures and problems, improving the analysis of constructions and decisions of strategies, to seek a better result. In the case of figure 1 in question, we see a graph with a large volume of data, represented in a clear and clean way that helps us :\n",
    "\n",
    ". Recognize and have a better understanding of the problem.\n",
    ". Consider all the possible paths to a solution.\n",
    ". Identify the shortest path to the solution.\n",
    ". Simplifying the problem by showing it as a set of nodes and edges.\n",
    ". And of course it allows us to visualize the problem and see the relationships between the different stages of the puzzle.\n",
    "\n",
    "\n",
    "\n",
    "\n",
    "\n",
    "\n",
    "\n",
    "References\n",
    "\n",
    "https://www.geeksforgeeks.org/difference-between-graph-and-tree/ Retrieved 09/11\n",
    "https://www.tutorialspoint.com/difference-between-tree-and-graph Retrieved 09/11\n",
    "https://www.youtube.com/watch?v=KVHrjVTp9_w Retrieved 10/11\n",
    "https://www.techgeekbuzz.com/blog/tree-vs-graph/ Retrieved 10/11\n",
    "\n",
    "https://www.youtube.com/watch?v=bZkzH5x0SKU Retrieved 10/11\n",
    "\n",
    "https://www.freecodecamp.org/news/dijkstras-shortest-path-algorithm-visual-introduction/ Retrieved 14/11\n",
    "\n",
    "https://www.tableau.com/data-insights/data-visualization/advantages-disadvantages Retrieved 14/11\n",
    "\n",
    "https://www.salesforce.com/ca/hub/analytics/data-visualization-advantages/ Retrieved 14/11\n",
    "\n",
    "\n",
    "\n"
   ]
  },
  {
   "cell_type": "code",
   "execution_count": null,
   "id": "33e81e47",
   "metadata": {},
   "outputs": [],
   "source": []
  }
 ],
 "metadata": {
  "kernelspec": {
   "display_name": "Python 3 (ipykernel)",
   "language": "python",
   "name": "python3"
  },
  "language_info": {
   "codemirror_mode": {
    "name": "ipython",
    "version": 3
   },
   "file_extension": ".py",
   "mimetype": "text/x-python",
   "name": "python",
   "nbconvert_exporter": "python",
   "pygments_lexer": "ipython3",
   "version": "3.11.4"
  }
 },
 "nbformat": 4,
 "nbformat_minor": 5
}
